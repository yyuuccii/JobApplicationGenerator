{
 "cells": [
  {
   "cell_type": "code",
   "execution_count": 1,
   "metadata": {},
   "outputs": [],
   "source": [
    "from langchain_groq import ChatGroq\n",
    "from langchain.prompts import PromptTemplate\n",
    "from langchain_core.output_parsers import JsonOutputParser\n",
    "import chromadb\n",
    "import uuid\n",
    "import pandas as pd"
   ]
  },
  {
   "cell_type": "code",
   "execution_count": 2,
   "metadata": {},
   "outputs": [],
   "source": [
    "job_text = \"\"\"\n",
    "Munich, Germany\n",
    "Munich, Germany\n",
    "Intern / Working Student\n",
    "Working Student/ Intern\n",
    "Intern / Working Student\n",
    "Engineering\n",
    "(Intern / Working Student) NLP Engineer, LLM Agents\n",
    "As a NLP Engineer, you will work with the tech team to further develop our AI Agent and expand its capabilities. This is a very high impact role where you will shape the product and work at the very edge of whats possible with the state-of-the-art technologies.\n",
    "\n",
    "About Us:\n",
    "\n",
    "We are KNOWRON GmbH, a deep tech startup based in Munich, Germany. Widespread loss of knowledge and an ageing workforce require a fundamental change in manufacturing. That's why we are building a Large Language Model (LLM) based platform to assist desk-less workers anywhere, 24/7.\n",
    "\n",
    "As a NLP Engineer, you will work with the tech team to further develop our AI Agents capabilities. This is a very high impact role where you will shape the product and work at the very edge of whats possible with the state-of-the-art technologies.\n",
    "\n",
    "‍\n",
    "\n",
    "Key responsibilities\n",
    "\n",
    "Implement and test new skills for our AI Agent.\n",
    "Evaluate the performance and accuracy of the pipeline to ensure high value for the user\n",
    "Write clean and maintainable code with sensible testing that you would enjoy taking over from a colleague.\n",
    "Proactively communicate, document, and share your approach, progress, results, and challenges.\n",
    "Your profile\n",
    "\n",
    "You have built a project with LLM technology.\n",
    "You are currently pursuing your Masters degree in Computer Science, Electrical Engineering or any other technical related field.\n",
    "You are proficient in Python and are comfortable working with REST APIs\n",
    "You have experience solving NLP problems and are comfortable with the usuals in this space (Spacy, Gensim, Cohere/ OpenAI / Gemini etc).\n",
    "You are results-oriented and have strong organizational & communication skills\n",
    "You have a go-getter attitude. You are proactive about finding solutions to problems.\n",
    "You are fluent in English\n",
    "What's in it for you?\n",
    "\n",
    "Steep Learning Curve: Join a funded early stage startup and learn the product discovery and development process from the inside out.\n",
    "Mentorship: We do regular 1:1s, retrospectives and support you to learn new things to grow personally and professionally.\n",
    "Hybrid Work: We are a company built during the covid era, hybrid work is a core part of our culture.\n",
    "Personal Development Budget: You get a 1000€ yearly budget for personal growth and development.\n",
    "Team Events & Fitness: We provide healthy snacks, drinks, and exciting team activities and an Urban Sports Club membership\n",
    "Hit us up!\n",
    "\n",
    "‍\n",
    "\n",
    "Please send your CV, your LinkedIn profile and your earliest possible starting date to jobs@knowron.com. We are looking forward to your application and will try to get back to you as soon as possible!\n",
    "\n",
    "‍\n",
    "\n",
    "KNOWRON is an equal opportunity employer. We embrace and celebrate diversity and are committed to creating an inclusive environment for all employees. We are open to all groups of people without regard to age, color, national origin, race, religion, gender, sex, sexual orientation, gender identity and/or expression, marital status, or any other legally protected characteristics.\n",
    "\"\"\""
   ]
  },
  {
   "cell_type": "code",
   "execution_count": 3,
   "metadata": {},
   "outputs": [],
   "source": [
    "def extract_job_info(text):\n",
    "    llm = ChatGroq(\n",
    "        model=\"llama-3.1-70b-versatile\",\n",
    "        groq_api_key=\"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\",\n",
    "        temperature=0.2\n",
    "    )\n",
    "\n",
    "    prompt_extract = PromptTemplate(\n",
    "        input_variables=[\"text\"],\n",
    "        template=\n",
    "        \"\"\"\n",
    "        Extract detail information such as `role`, `responsibilities`, `requirement`, `skills`, `description` from {text} and made into JSON format.\n",
    "        \"\"\"\n",
    "    )\n",
    "\n",
    "    chain_extract = prompt_extract | llm\n",
    "    response = chain_extract.invoke({\"text\": text})\n",
    "\n",
    "    return response.content"
   ]
  },
  {
   "cell_type": "code",
   "execution_count": 4,
   "metadata": {},
   "outputs": [],
   "source": [
    "extract_info = extract_job_info(job_text)"
   ]
  },
  {
   "cell_type": "code",
   "execution_count": 5,
   "metadata": {},
   "outputs": [],
   "source": [
    "def parse_extract_info(extract_output):\n",
    "    json_parser = JsonOutputParser()\n",
    "    json_res = json_parser.parse(extract_output)\n",
    "    return json_res"
   ]
  },
  {
   "cell_type": "code",
   "execution_count": 6,
   "metadata": {},
   "outputs": [],
   "source": [
    "json_extract_info = parse_extract_info(extract_info)"
   ]
  },
  {
   "cell_type": "code",
   "execution_count": 7,
   "metadata": {},
   "outputs": [
    {
     "data": {
      "text/html": [
       "<div>\n",
       "<style scoped>\n",
       "    .dataframe tbody tr th:only-of-type {\n",
       "        vertical-align: middle;\n",
       "    }\n",
       "\n",
       "    .dataframe tbody tr th {\n",
       "        vertical-align: top;\n",
       "    }\n",
       "\n",
       "    .dataframe thead th {\n",
       "        text-align: right;\n",
       "    }\n",
       "</style>\n",
       "<table border=\"1\" class=\"dataframe\">\n",
       "  <thead>\n",
       "    <tr style=\"text-align: right;\">\n",
       "      <th></th>\n",
       "      <th>Project Name</th>\n",
       "      <th>Project Description</th>\n",
       "      <th>Project Links</th>\n",
       "      <th>skills</th>\n",
       "    </tr>\n",
       "  </thead>\n",
       "  <tbody>\n",
       "    <tr>\n",
       "      <th>0</th>\n",
       "      <td>Zipf's Law, Text Generation Using A N-gram Mod...</td>\n",
       "      <td>NaN</td>\n",
       "      <td>https://github.com/yyuuccii/CoLi_1/blob/main/C...</td>\n",
       "      <td>LLM, NLP</td>\n",
       "    </tr>\n",
       "    <tr>\n",
       "      <th>1</th>\n",
       "      <td>Comparative Analysis of BERT Variants on Senti...</td>\n",
       "      <td>Evaluate BERT-base, RoBERTa, DistilBERT, and A...</td>\n",
       "      <td>https://drive.google.com/file/d/13RJ4inZYD4eEd...</td>\n",
       "      <td>NLP, SpaCy</td>\n",
       "    </tr>\n",
       "    <tr>\n",
       "      <th>2</th>\n",
       "      <td>Comparative Analysis of Sentiment Analysis Tec...</td>\n",
       "      <td>Compare sentiment analysis results from NLTK/V...</td>\n",
       "      <td>https://drive.google.com/file/d/1hioeSSo9hQ_g_...</td>\n",
       "      <td>LLM, NLP</td>\n",
       "    </tr>\n",
       "    <tr>\n",
       "      <th>3</th>\n",
       "      <td>IT Service Ticket Classification with DistilBERT</td>\n",
       "      <td>text Classification: Classify IT service ticke...</td>\n",
       "      <td>https://github.com/yyuuccii/TextClassification...</td>\n",
       "      <td>LLM, NLP</td>\n",
       "    </tr>\n",
       "    <tr>\n",
       "      <th>4</th>\n",
       "      <td>Job Application Generator Using LLM and LangChain</td>\n",
       "      <td>Use the ChatGroq API to get access to LLM: Met...</td>\n",
       "      <td>https://github.com/yyuuccii/JobApplicationGene...</td>\n",
       "      <td>LLM, API, NLP, LangChain</td>\n",
       "    </tr>\n",
       "  </tbody>\n",
       "</table>\n",
       "</div>"
      ],
      "text/plain": [
       "                                        Project Name  \\\n",
       "0  Zipf's Law, Text Generation Using A N-gram Mod...   \n",
       "1  Comparative Analysis of BERT Variants on Senti...   \n",
       "2  Comparative Analysis of Sentiment Analysis Tec...   \n",
       "3   IT Service Ticket Classification with DistilBERT   \n",
       "4  Job Application Generator Using LLM and LangChain   \n",
       "\n",
       "                                 Project Description  \\\n",
       "0                                                NaN   \n",
       "1  Evaluate BERT-base, RoBERTa, DistilBERT, and A...   \n",
       "2  Compare sentiment analysis results from NLTK/V...   \n",
       "3  text Classification: Classify IT service ticke...   \n",
       "4  Use the ChatGroq API to get access to LLM: Met...   \n",
       "\n",
       "                                       Project Links                    skills  \n",
       "0  https://github.com/yyuuccii/CoLi_1/blob/main/C...                  LLM, NLP  \n",
       "1  https://drive.google.com/file/d/13RJ4inZYD4eEd...                NLP, SpaCy  \n",
       "2  https://drive.google.com/file/d/1hioeSSo9hQ_g_...                  LLM, NLP  \n",
       "3  https://github.com/yyuuccii/TextClassification...                  LLM, NLP  \n",
       "4  https://github.com/yyuuccii/JobApplicationGene...  LLM, API, NLP, LangChain  "
      ]
     },
     "execution_count": 7,
     "metadata": {},
     "output_type": "execute_result"
    }
   ],
   "source": [
    "portforlio_dir = \"/Users/yu/Desktop/Code/ColdEmailGenerator/coldemail_practice/coldemail_practice3/my_portfolio.csv\"\n",
    "\n",
    "portforlio_df = pd.read_csv(portforlio_dir, delimiter=\";\")\n",
    "portforlio_df"
   ]
  },
  {
   "cell_type": "code",
   "execution_count": 8,
   "metadata": {},
   "outputs": [],
   "source": [
    "cilent = chromadb.PersistentClient(\"vectorstore\")\n",
    "collection = cilent.get_or_create_collection(name=\"portfolio\")\n",
    "\n",
    "if not collection.count():\n",
    "    for _, row in portforlio_df.iterrows():\n",
    "        document =  f\"{row['Project Name']} - {row['Project Description']}\"\n",
    "        collection.add(documents=[document],\n",
    "                       metadatas={\"links\": row[\"Project Links\"]},\n",
    "                       ids=[str(uuid.uuid4())]\n",
    "                       )\n"
   ]
  },
  {
   "cell_type": "code",
   "execution_count": 10,
   "metadata": {},
   "outputs": [
    {
     "data": {
      "text/plain": [
       "dict_keys(['role', 'responsibilities', 'requirements', 'skills', 'description'])"
      ]
     },
     "execution_count": 10,
     "metadata": {},
     "output_type": "execute_result"
    }
   ],
   "source": [
    "json_extract_info.keys()"
   ]
  },
  {
   "cell_type": "code",
   "execution_count": 11,
   "metadata": {},
   "outputs": [
    {
     "data": {
      "text/plain": [
       "{'role': 'NLP Engineer, LLM Agents',\n",
       " 'responsibilities': ['Implement and test new skills for our AI Agent.',\n",
       "  'Evaluate the performance and accuracy of the pipeline to ensure high value for the user',\n",
       "  'Write clean and maintainable code with sensible testing that you would enjoy taking over from a colleague.',\n",
       "  'Proactively communicate, document, and share your approach, progress, results, and challenges.'],\n",
       " 'requirements': [\"Currently pursuing a Master's degree in Computer Science, Electrical Engineering or any other technical related field.\",\n",
       "  'Proficient in Python and comfortable working with REST APIs',\n",
       "  'Experience solving NLP problems and comfortable with the usuals in this space (Spacy, Gensim, Cohere/ OpenAI / Gemini etc).',\n",
       "  'Results-oriented and strong organizational & communication skills',\n",
       "  'Go-getter attitude and proactive about finding solutions to problems.',\n",
       "  'Fluent in English'],\n",
       " 'skills': ['LLM technology',\n",
       "  'Python',\n",
       "  'REST APIs',\n",
       "  'NLP',\n",
       "  'Spacy',\n",
       "  'Gensim',\n",
       "  'Cohere',\n",
       "  'OpenAI',\n",
       "  'Gemini'],\n",
       " 'description': \"As a NLP Engineer, you will work with the tech team to further develop our AI Agent and expand its capabilities. This is a very high impact role where you will shape the product and work at the very edge of what's possible with the state-of-the-art technologies.\"}"
      ]
     },
     "execution_count": 11,
     "metadata": {},
     "output_type": "execute_result"
    }
   ],
   "source": [
    "json_extract_info"
   ]
  },
  {
   "cell_type": "code",
   "execution_count": 12,
   "metadata": {},
   "outputs": [],
   "source": [
    "description = json_extract_info[\"description\"]\n",
    "skills = json_extract_info[\"skills\"]\n",
    "responsibilities = json_extract_info[\"responsibilities\"]"
   ]
  },
  {
   "cell_type": "code",
   "execution_count": 13,
   "metadata": {},
   "outputs": [],
   "source": [
    "query_text = []\n",
    "query_text = str(skills) + \" \" + str(responsibilities)"
   ]
  },
  {
   "cell_type": "code",
   "execution_count": 15,
   "metadata": {},
   "outputs": [
    {
     "data": {
      "text/plain": [
       "{'ids': [['098edb35-bd48-469b-a9e8-19efedd1be85',\n",
       "   '95bb1f69-d928-45d5-b0d6-cfb74e6e7c32',\n",
       "   '54825f89-6961-4319-94f0-a0f83bff2e74']],\n",
       " 'distances': [[1.367870475452547, 1.5867215893216307, 1.623989555244984]],\n",
       " 'metadatas': [[{'links': 'https://github.com/yyuuccii/JobApplicationGenerator/blob/main/JobApplicationGenerator.ipynb'},\n",
       "   {'links': 'https://drive.google.com/file/d/13RJ4inZYD4eEdOVK9lHhEQ64VAs1WgSs/view'},\n",
       "   {'links': 'https://github.com/yyuuccii/TextClassification_ITService/tree/main'}]],\n",
       " 'embeddings': None,\n",
       " 'documents': [['Job Application Generator Using LLM and LangChain - Use the ChatGroq API to get access to LLM: Meta 3 Llama 70B model and LangChain to extract job details, and integrate with chromadb for relevant portfolio projects to craft personalized job application letter.',\n",
       "   'Comparative Analysis of BERT Variants on Sentiment Analysis - Evaluate BERT-base, RoBERTa, DistilBERT, and ALBERT with an added linear layer for sentiment analysis, comparing their performance and efficiency using accuracy, F1-scores, and training time.',\n",
       "   'IT Service Ticket Classification with DistilBERT - text Classification: Classify IT service tickets into categories by the descriptions of IT problems using a DistilBERT-based model, achieving 74.73\\\\% accuracy with a custom classifier built on DistilBERT features.']],\n",
       " 'uris': None,\n",
       " 'data': None,\n",
       " 'included': ['metadatas', 'documents', 'distances']}"
      ]
     },
     "execution_count": 15,
     "metadata": {},
     "output_type": "execute_result"
    }
   ],
   "source": [
    "links = collection.query(query_texts=query_text,\n",
    "                         n_results=3)\n",
    "links"
   ]
  },
  {
   "cell_type": "code",
   "execution_count": 28,
   "metadata": {},
   "outputs": [],
   "source": [
    "def write_letter(links, query_text):\n",
    "    llm = ChatGroq(\n",
    "        model=\"llama-3.1-70b-versatile\",\n",
    "        groq_api_key=\"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\",\n",
    "        temperature=0.7\n",
    "    )\n",
    "\n",
    "    prompt_writing = PromptTemplate(\n",
    "        input_variables=[\"links\", \"query_text\"],\n",
    "        template=\n",
    "        \"\"\"\n",
    "        You are Yuci Chen. You are a master's student studying Computational Linguistics at Saarland University. You are applying for a NLP internship/workstudent position at the company called \"Knowron\".\n",
    "\n",
    "        Write a short (about 100 words) and concise application letter, where you read the skills in {query_text} and add the most RELEVANT project from the following links {links} to showcase portfolio, but don't write down details about the projects, just provide the links and the name of the projects.\n",
    "\n",
    "        Greeting with the company's name in the beginning.\n",
    "\n",
    "        Add in the end: P.S. this letter is generated by a Llama model. \n",
    "        \"\"\"\n",
    "    )\n",
    "\n",
    "    chain_writing = prompt_writing | llm\n",
    "    response = chain_writing.invoke({\"links\": links, \"query_text\": query_text})\n",
    "\n",
    "    return response"
   ]
  },
  {
   "cell_type": "code",
   "execution_count": 30,
   "metadata": {},
   "outputs": [
    {
     "name": "stdout",
     "output_type": "stream",
     "text": [
      "Dear Knowron Team,\n",
      "\n",
      "I am writing to express my strong interest in the NLP internship/workstudent position at Knowron. As a master's student in Computational Linguistics at Saarland University, I am confident that my skills and experience make me an ideal fit for this role.\n",
      "\n",
      "I am particularly drawn to this position because of the opportunity to work with a talented tech team to develop and expand the capabilities of your AI Agent. I am excited about the prospect of working at the edge of what's possible with state-of-the-art technologies and shaping the product.\n",
      "\n",
      "Some of my relevant projects that demonstrate my skills in NLP include:\n",
      "\n",
      "- Job Application Generator Using LLM and LangChain (https://github.com/yyuuccii/JobApplicationGenerator/blob/main/JobApplicationGenerator.ipynb)\n",
      "- Comparative Analysis of BERT Variants on Sentiment Analysis (https://drive.google.com/file/d/13RJ4inZYD4eEdOVK9lHhEQ64VAs1WgSs/view)\n",
      "- IT Service Ticket Classification with DistilBERT (https://github.com/yyuuccii/TextClassification_ITService/tree/main)\n",
      "\n",
      "I would welcome the opportunity to discuss my application and how my skills and experience align with the requirements of the position.\n",
      "\n",
      "Thank you for considering my application.\n",
      "\n",
      "Sincerely,\n",
      "Yuci Chen\n",
      "\n",
      "P.S. this letter is generated by a Llama model.\n"
     ]
    }
   ],
   "source": [
    "letter = write_letter(links, description)\n",
    "print(letter.content)"
   ]
  },
  {
   "cell_type": "code",
   "execution_count": null,
   "metadata": {},
   "outputs": [],
   "source": []
  }
 ],
 "metadata": {
  "kernelspec": {
   "display_name": "Python 3",
   "language": "python",
   "name": "python3"
  },
  "language_info": {
   "codemirror_mode": {
    "name": "ipython",
    "version": 3
   },
   "file_extension": ".py",
   "mimetype": "text/x-python",
   "name": "python",
   "nbconvert_exporter": "python",
   "pygments_lexer": "ipython3",
   "version": "3.9.10"
  }
 },
 "nbformat": 4,
 "nbformat_minor": 2
}
