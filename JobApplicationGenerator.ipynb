{
 "cells": [
  {
   "cell_type": "code",
   "execution_count": 33,
   "metadata": {},
   "outputs": [],
   "source": [
    "from langchain_groq import ChatGroq\n",
    "from langchain.prompts import PromptTemplate\n",
    "from langchain_core.output_parsers import JsonOutputParser\n",
    "import pandas as pd\n",
    "import chromadb\n",
    "import uuid\n"
   ]
  },
  {
   "cell_type": "code",
   "execution_count": 9,
   "metadata": {},
   "outputs": [],
   "source": [
    "job_text = \"\"\"\n",
    "Munich, Germany\n",
    "Munich, Germany\n",
    "Intern / Working Student\n",
    "Working Student/ Intern\n",
    "Intern / Working Student\n",
    "Engineering\n",
    "(Intern / Working Student) NLP Engineer, LLM Agents\n",
    "As a NLP Engineer, you will work with the tech team to further develop our AI Agent and expand its capabilities. This is a very high impact role where you will shape the product and work at the very edge of whats possible with the state-of-the-art technologies.\n",
    "\n",
    "About Us:\n",
    "\n",
    "We are KNOWRON GmbH, a deep tech startup based in Munich, Germany. Widespread loss of knowledge and an ageing workforce require a fundamental change in manufacturing. That's why we are building a Large Language Model (LLM) based platform to assist desk-less workers anywhere, 24/7.\n",
    "\n",
    "As a NLP Engineer, you will work with the tech team to further develop our AI Agents capabilities. This is a very high impact role where you will shape the product and work at the very edge of whats possible with the state-of-the-art technologies.\n",
    "\n",
    "‍\n",
    "\n",
    "Key responsibilities\n",
    "\n",
    "Implement and test new skills for our AI Agent.\n",
    "Evaluate the performance and accuracy of the pipeline to ensure high value for the user\n",
    "Write clean and maintainable code with sensible testing that you would enjoy taking over from a colleague.\n",
    "Proactively communicate, document, and share your approach, progress, results, and challenges.\n",
    "Your profile\n",
    "\n",
    "You have built a project with LLM technology.\n",
    "You are currently pursuing your Masters degree in Computer Science, Electrical Engineering or any other technical related field.\n",
    "You are proficient in Python and are comfortable working with REST APIs\n",
    "You have experience solving NLP problems and are comfortable with the usuals in this space (Spacy, Gensim, Cohere/ OpenAI / Gemini etc).\n",
    "You are results-oriented and have strong organizational & communication skills\n",
    "You have a go-getter attitude. You are proactive about finding solutions to problems.\n",
    "You are fluent in English\n",
    "What's in it for you?\n",
    "\n",
    "Steep Learning Curve: Join a funded early stage startup and learn the product discovery and development process from the inside out.\n",
    "Mentorship: We do regular 1:1s, retrospectives and support you to learn new things to grow personally and professionally.\n",
    "Hybrid Work: We are a company built during the covid era, hybrid work is a core part of our culture.\n",
    "Personal Development Budget: You get a 1000€ yearly budget for personal growth and development.\n",
    "Team Events & Fitness: We provide healthy snacks, drinks, and exciting team activities and an Urban Sports Club membership\n",
    "Hit us up!\n",
    "\n",
    "‍\n",
    "\n",
    "Please send your CV, your LinkedIn profile and your earliest possible starting date to jobs@knowron.com. We are looking forward to your application and will try to get back to you as soon as possible!\n",
    "\n",
    "‍\n",
    "\n",
    "KNOWRON is an equal opportunity employer. We embrace and celebrate diversity and are committed to creating an inclusive environment for all employees. We are open to all groups of people without regard to age, color, national origin, race, religion, gender, sex, sexual orientation, gender identity and/or expression, marital status, or any other legally protected characteristics.\n",
    "\"\"\""
   ]
  },
  {
   "cell_type": "code",
   "execution_count": 40,
   "metadata": {},
   "outputs": [],
   "source": [
    "def extract_job_text(text):\n",
    "    llm = ChatGroq(\n",
    "        model=\"llama-3.1-70b-versatile\",\n",
    "        groq_api_key=\"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\",\n",
    "        temperature=\"0.8\"\n",
    "    )\n",
    "\n",
    "    extract_prompt = PromptTemplate(\n",
    "        input_variables=[\"text\"],\n",
    "        template=\"\"\"\n",
    "        Extract detail information such as `role`, `experience`, `skills`, `description` from {text} and made into JSON format.\n",
    "        \"\"\"\n",
    "    )\n",
    "\n",
    "    chain_extract = extract_prompt | llm\n",
    "    response = chain_extract.invoke({\"text\": text})\n",
    "    \n",
    "    return response.content"
   ]
  },
  {
   "cell_type": "code",
   "execution_count": 41,
   "metadata": {},
   "outputs": [],
   "source": [
    "res = extract_job_text(job_text)"
   ]
  },
  {
   "cell_type": "code",
   "execution_count": 42,
   "metadata": {},
   "outputs": [],
   "source": [
    "def parse_extract_info(extract_output):\n",
    "    json_parser = JsonOutputParser()\n",
    "    json_res = json_parser.parse(extract_output)\n",
    "    return json_res"
   ]
  },
  {
   "cell_type": "code",
   "execution_count": 43,
   "metadata": {},
   "outputs": [],
   "source": [
    "json_res = parse_extract_info(res)"
   ]
  },
  {
   "cell_type": "code",
   "execution_count": 44,
   "metadata": {},
   "outputs": [
    {
     "data": {
      "text/plain": [
       "{'role': 'NLP Engineer, LLM Agents',\n",
       " 'experience': 'Intern / Working Student',\n",
       " 'location': 'Munich, Germany',\n",
       " 'description': \"As a NLP Engineer, you will work with the tech team to further develop our AI Agent and expand its capabilities. This is a very high impact role where you will shape the product and work at the very edge of what's possible with the state-of-the-art technologies.\",\n",
       " 'skills': ['LLM technology',\n",
       "  'Python',\n",
       "  'REST APIs',\n",
       "  'NLP problem-solving',\n",
       "  'Spacy',\n",
       "  'Gensim',\n",
       "  'Cohere/OpenAI/Gemini',\n",
       "  'English fluency'],\n",
       " 'responsibilities': ['Implement and test new skills for our AI Agent.',\n",
       "  'Evaluate the performance and accuracy of the pipeline to ensure high value for the user',\n",
       "  'Write clean and maintainable code with sensible testing that you would enjoy taking over from a colleague.',\n",
       "  'Proactively communicate, document, and share your approach, progress, results, and challenges.'],\n",
       " 'requirements': [\"Currently pursuing a Master's degree in Computer Science, Electrical Engineering or any other technical related field.\",\n",
       "  'Have built a project with LLM technology.',\n",
       "  'Proficient in Python and comfortable working with REST APIs',\n",
       "  'Experience solving NLP problems and comfortable with the usuals in this space',\n",
       "  'Results-oriented with strong organizational & communication skills',\n",
       "  'Have a go-getter attitude and proactive about finding solutions to problems.',\n",
       "  'Fluent in English'],\n",
       " 'benefits': ['Steep Learning Curve: Join a funded early stage startup and learn the product discovery and development process from the inside out.',\n",
       "  'Mentorship: Regular 1:1s, retrospectives, and support to learn new things to grow personally and professionally.',\n",
       "  'Hybrid Work: Flexible work arrangements',\n",
       "  'Personal Development Budget: 1000€ yearly budget for personal growth and development.',\n",
       "  'Team Events & Fitness: Healthy snacks, drinks, exciting team activities, and an Urban Sports Club membership']}"
      ]
     },
     "execution_count": 44,
     "metadata": {},
     "output_type": "execute_result"
    }
   ],
   "source": [
    "json_res"
   ]
  },
  {
   "cell_type": "code",
   "execution_count": 30,
   "metadata": {},
   "outputs": [
    {
     "data": {
      "text/html": [
       "<div>\n",
       "<style scoped>\n",
       "    .dataframe tbody tr th:only-of-type {\n",
       "        vertical-align: middle;\n",
       "    }\n",
       "\n",
       "    .dataframe tbody tr th {\n",
       "        vertical-align: top;\n",
       "    }\n",
       "\n",
       "    .dataframe thead th {\n",
       "        text-align: right;\n",
       "    }\n",
       "</style>\n",
       "<table border=\"1\" class=\"dataframe\">\n",
       "  <thead>\n",
       "    <tr style=\"text-align: right;\">\n",
       "      <th></th>\n",
       "      <th>Project Name</th>\n",
       "      <th>Project Description</th>\n",
       "      <th>Project Links</th>\n",
       "    </tr>\n",
       "  </thead>\n",
       "  <tbody>\n",
       "    <tr>\n",
       "      <th>0</th>\n",
       "      <td>ZipfÕs Law, Text Generation Using A N-gram Mod...</td>\n",
       "      <td>NaN</td>\n",
       "      <td>https://github.com/yyuuccii/CoLi_1/blob/main/C...</td>\n",
       "    </tr>\n",
       "    <tr>\n",
       "      <th>1</th>\n",
       "      <td>Comparative Analysis of BERT Variants on Senti...</td>\n",
       "      <td>Evaluate BERT-base, RoBERTa, DistilBERT, and A...</td>\n",
       "      <td>https://drive.google.com/file/d/13RJ4inZYD4eEd...</td>\n",
       "    </tr>\n",
       "    <tr>\n",
       "      <th>2</th>\n",
       "      <td>Comparative Analysis of Sentiment Analysis Tec...</td>\n",
       "      <td>Compare sentiment analysis results from NLTK/V...</td>\n",
       "      <td>https://drive.google.com/file/d/1hioeSSo9hQ_g_...</td>\n",
       "    </tr>\n",
       "    <tr>\n",
       "      <th>3</th>\n",
       "      <td>IT Service Ticket Classification with DistilBERT</td>\n",
       "      <td>Classify IT service tickets into categories by...</td>\n",
       "      <td>https://github.com/yyuuccii/TextClassification...</td>\n",
       "    </tr>\n",
       "    <tr>\n",
       "      <th>4</th>\n",
       "      <td>Yoga Pose Classification with custom CNN, ResN...</td>\n",
       "      <td>Classify yoga poses with a custom CNN, ResNet5...</td>\n",
       "      <td>https://github.com/yyuuccii/ImageClassificatio...</td>\n",
       "    </tr>\n",
       "  </tbody>\n",
       "</table>\n",
       "</div>"
      ],
      "text/plain": [
       "                                        Project Name  \\\n",
       "0  ZipfÕs Law, Text Generation Using A N-gram Mod...   \n",
       "1  Comparative Analysis of BERT Variants on Senti...   \n",
       "2  Comparative Analysis of Sentiment Analysis Tec...   \n",
       "3   IT Service Ticket Classification with DistilBERT   \n",
       "4  Yoga Pose Classification with custom CNN, ResN...   \n",
       "\n",
       "                                 Project Description  \\\n",
       "0                                                NaN   \n",
       "1  Evaluate BERT-base, RoBERTa, DistilBERT, and A...   \n",
       "2  Compare sentiment analysis results from NLTK/V...   \n",
       "3  Classify IT service tickets into categories by...   \n",
       "4  Classify yoga poses with a custom CNN, ResNet5...   \n",
       "\n",
       "                                       Project Links  \n",
       "0  https://github.com/yyuuccii/CoLi_1/blob/main/C...  \n",
       "1  https://drive.google.com/file/d/13RJ4inZYD4eEd...  \n",
       "2  https://drive.google.com/file/d/1hioeSSo9hQ_g_...  \n",
       "3  https://github.com/yyuuccii/TextClassification...  \n",
       "4  https://github.com/yyuuccii/ImageClassificatio...  "
      ]
     },
     "execution_count": 30,
     "metadata": {},
     "output_type": "execute_result"
    }
   ],
   "source": [
    "portforlio_dir = \"/Users/yu/Desktop/Code/ColdEmailGenerator/coldemail_practice/my_portfolio.csv\"\n",
    "\n",
    "portfolio_df = pd.read_csv(portforlio_dir, encoding=\"latin-1\", delimiter=\";\")\n",
    "portfolio_df"
   ]
  },
  {
   "cell_type": "code",
   "execution_count": 56,
   "metadata": {},
   "outputs": [],
   "source": [
    "client = chromadb.PersistentClient(\"vectorstore\")\n",
    "collection = client.get_or_create_collection(name=\"portfolio\")\n",
    "\n",
    "if not collection.count():\n",
    "    for _, row in portfolio_df.iterrows():\n",
    "        document = f\"{row['Project Name']} - {row['Project Description']}\"\n",
    "        collection.add(documents=[document],\n",
    "                       metadatas={\"links\": row[\"Project Links\"]},\n",
    "                       ids=[str(uuid.uuid4())]\n",
    "                       )"
   ]
  },
  {
   "cell_type": "code",
   "execution_count": 57,
   "metadata": {},
   "outputs": [],
   "source": [
    "description = json_res[\"description\"]\n",
    "responsibilities = json_res[\"responsibilities\"]\n",
    "requirements = json_res[\"requirements\"]"
   ]
  },
  {
   "cell_type": "code",
   "execution_count": 61,
   "metadata": {},
   "outputs": [
    {
     "data": {
      "text/plain": [
       "'As a NLP Engineer, you will work with the tech team to further develop our AI Agent and expand its capabilities. This is a very high impact role where you will shape the product and work at the very edge of what\\'s possible with the state-of-the-art technologies.[\\'Implement and test new skills for our AI Agent.\\', \\'Evaluate the performance and accuracy of the pipeline to ensure high value for the user\\', \\'Write clean and maintainable code with sensible testing that you would enjoy taking over from a colleague.\\', \\'Proactively communicate, document, and share your approach, progress, results, and challenges.\\'][\"Currently pursuing a Master\\'s degree in Computer Science, Electrical Engineering or any other technical related field.\", \\'Have built a project with LLM technology.\\', \\'Proficient in Python and comfortable working with REST APIs\\', \\'Experience solving NLP problems and comfortable with the usuals in this space\\', \\'Results-oriented with strong organizational & communication skills\\', \\'Have a go-getter attitude and proactive about finding solutions to problems.\\', \\'Fluent in English\\']'"
      ]
     },
     "execution_count": 61,
     "metadata": {},
     "output_type": "execute_result"
    }
   ],
   "source": [
    "query_text = []\n",
    "query_text = str(description) + str(responsibilities) + str(requirements)"
   ]
  },
  {
   "cell_type": "code",
   "execution_count": 62,
   "metadata": {},
   "outputs": [],
   "source": [
    "links = collection.query(query_texts=query_text,\n",
    "                         n_results=5\n",
    "                         )"
   ]
  },
  {
   "cell_type": "code",
   "execution_count": 63,
   "metadata": {},
   "outputs": [
    {
     "data": {
      "text/plain": [
       "{'ids': [['efe507dd-951f-419d-9c6e-a972ff2c635c',\n",
       "   '447e40d4-f59f-4ef6-a532-e90d78050690',\n",
       "   '67d6964f-d905-4c87-a4d5-a902b5d66d5c',\n",
       "   '1c46e88f-6600-46f3-964b-9e2146fc8dcd',\n",
       "   '5454d921-c054-426c-8134-aad1c3d3c4c7']],\n",
       " 'distances': [[1.5215454653640508,\n",
       "   1.6042790629939843,\n",
       "   1.807712897476488,\n",
       "   1.835226161623634,\n",
       "   1.9274019281605625]],\n",
       " 'metadatas': [[{'links': 'https://drive.google.com/file/d/1hioeSSo9hQ_g_aQTISfR2UZtYFH4GR57/view?usp=sharing'},\n",
       "   {'links': 'https://drive.google.com/file/d/13RJ4inZYD4eEdOVK9lHhEQ64VAs1WgSs/view'},\n",
       "   {'links': 'https://github.com/yyuuccii/TextClassification_ITService/tree/main'},\n",
       "   {'links': 'https://github.com/yyuuccii/CoLi_1/blob/main/CoLi_1.ipynb'},\n",
       "   {'links': 'https://github.com/yyuuccii/ImageClassification_YogaPose'}]],\n",
       " 'embeddings': None,\n",
       " 'documents': [['Comparative Analysis of Sentiment Analysis Techniques and Preprocessing Impact - Compare sentiment analysis results from NLTK/VADER, SpaCy/Textblob, and HuggingFace, examining the effects of preprocessing and analysis methods using confusion matrices.',\n",
       "   'Comparative Analysis of BERT Variants on Sentiment Analysis - Evaluate BERT-base, RoBERTa, DistilBERT, and ALBERT with an added linear layer for sentiment analysis, comparing their performance and efficiency using accuracy, F1-scores, and training time.',\n",
       "   'IT Service Ticket Classification with DistilBERT - Classify IT service tickets into categories by the descriptions of IT problems using a DistilBERT-based model, achieving 74.73\\\\% accuracy with a custom classifier built on DistilBERT features.',\n",
       "   'ZipfÕs Law, Text Generation Using A N-gram Model, Statistical Dependency - nan',\n",
       "   'Yoga Pose Classification with custom CNN, ResNet50, and MobileNet - Classify yoga poses with a custom CNN, ResNet50, and MobileNet. The custom CNN, designed with four convolutional layers and five fully connected layers, achieves a test accuracy of 55.24\\\\%. The ResNet50 and MobileNet model, leveraging pretrained weights with fine-tuning, reaches a test accuracy of 72.18\\\\% and 70.97\\\\%, respectively.']],\n",
       " 'uris': None,\n",
       " 'data': None,\n",
       " 'included': ['metadatas', 'documents', 'distances']}"
      ]
     },
     "execution_count": 63,
     "metadata": {},
     "output_type": "execute_result"
    }
   ],
   "source": [
    "links"
   ]
  },
  {
   "cell_type": "code",
   "execution_count": 93,
   "metadata": {},
   "outputs": [],
   "source": [
    "def write_email(links, query_text):\n",
    "    llm = ChatGroq(\n",
    "        model=\"llama-3.1-70b-versatile\",\n",
    "        groq_api_key=\"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\",\n",
    "        temperature=0.8\n",
    "    )\n",
    "\n",
    "    prompt_email = PromptTemplate(\n",
    "        input_variables=[\"links\", \"query_text\"],\n",
    "        template=\"\"\"\n",
    "        You are Yuci Chen, a master's student studying Computational Linguistics in Saarland University.\n",
    "        You are applying for a internship/workstudent position in a AI company called Knowron.\n",
    "        Write a application letter, where you look for the requirements in {query_text} \n",
    "        and add the most relevant ones from the following links to showcase portfolio: {links}, but don't write down details about the projects, just provide the links.\n",
    "        Write it CREATIVELY and not sound like AI generated. \n",
    "        Write in the end \"P.S. This letter was generated by a Large Language Model (LLM) model.\"\n",
    "        Natural tone.\n",
    "        Do not provide a preamble.\n",
    "        \"\"\"\n",
    "    )\n",
    "\n",
    "    chain_email = prompt_email | llm\n",
    "    response = chain_email.invoke({\"query_text\": query_text, \"links\": links})\n",
    "    # output = response.content\n",
    "    # output = output.replace(\"\\n\", \"\")\n",
    "\n",
    "    return response"
   ]
  },
  {
   "cell_type": "code",
   "execution_count": 94,
   "metadata": {},
   "outputs": [
    {
     "name": "stdout",
     "output_type": "stream",
     "text": [
      "Dear Hiring Manager at Knowron,\n",
      "\n",
      "I'm beyond excited to apply for the internship/work student position at Knowron, where I can contribute my skills and passion for NLP to drive innovation and growth. As a master's student in Computational Linguistics at Saarland University, I'm confident that my technical expertise and experience make me an ideal fit for this role.\n",
      "\n",
      "With a strong foundation in Python and experience working with REST APIs, I'm well-equipped to tackle complex NLP challenges. My academic pursuits have honed my problem-solving skills, and I'm eager to apply my knowledge to real-world problems. I'm particularly drawn to Knowron's commitment to pushing the boundaries of AI technology and shaping the product with cutting-edge innovations.\n",
      "\n",
      "As someone who thrives in a results-driven environment, I'm excited about the prospect of working on high-impact projects that prioritize user value. I'm a firm believer in the importance of clear communication, documentation, and collaboration, and I'm always looking for ways to improve my approach and share knowledge with others.\n",
      "\n",
      "I'd love to share some of my relevant work with you, which showcases my skills and experience in NLP:\n",
      "\n",
      "* [Comparative Analysis of Sentiment Analysis Techniques and Preprocessing Impact](https://drive.google.com/file/d/1hioeSSo9hQ_g_aQTISfR2UZtYFH4GR57/view?usp=sharing)\n",
      "* [Comparative Analysis of BERT Variants on Sentiment Analysis](https://drive.google.com/file/d/13RJ4inZYD4eEdOVK9lHhEQ64VAs1WgSs/view)\n",
      "* [IT Service Ticket Classification with DistilBERT](https://github.com/yyuuccii/TextClassification_ITService/tree/main)\n",
      "* [Yoga Pose Classification with custom CNN, ResNet50, and MobileNet](https://github.com/yyuuccii/ImageClassification_YogaPose)\n",
      "\n",
      "These projects demonstrate my ability to design, implement, and test NLP models, as well as my passion for exploring new techniques and technologies.\n",
      "\n",
      "I'm confident that my skills, experience, and attitude make me an ideal candidate for this role. I'm excited about the opportunity to contribute to Knowron's mission and work alongside a talented team of professionals.\n",
      "\n",
      "Thank you for considering my application. I look forward to discussing my qualifications further.\n",
      "\n",
      "P.S. This letter was generated by a Large Language Model (LLM) model.\n"
     ]
    }
   ],
   "source": [
    "email = write_email(query_text, links)\n",
    "print(email.content)"
   ]
  },
  {
   "cell_type": "code",
   "execution_count": null,
   "metadata": {},
   "outputs": [],
   "source": []
  }
 ],
 "metadata": {
  "kernelspec": {
   "display_name": "Python 3",
   "language": "python",
   "name": "python3"
  },
  "language_info": {
   "codemirror_mode": {
    "name": "ipython",
    "version": 3
   },
   "file_extension": ".py",
   "mimetype": "text/x-python",
   "name": "python",
   "nbconvert_exporter": "python",
   "pygments_lexer": "ipython3",
   "version": "3.9.10"
  }
 },
 "nbformat": 4,
 "nbformat_minor": 2
}
