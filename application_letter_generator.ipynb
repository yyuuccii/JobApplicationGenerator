{
 "cells": [
  {
   "cell_type": "code",
   "execution_count": 5,
   "id": "initial_id",
   "metadata": {
    "collapsed": true,
    "ExecuteTime": {
     "end_time": "2024-09-30T11:27:10.821835Z",
     "start_time": "2024-09-30T11:27:05.365265Z"
    }
   },
   "outputs": [],
   "source": [
    "from langchain_groq import ChatGroq\n",
    "from langchain.prompts import PromptTemplate\n",
    "from langchain_core.output_parsers import JsonOutputParser\n",
    "import pandas as pd\n",
    "import chromadb\n",
    "import uuid"
   ]
  },
  {
   "cell_type": "code",
   "execution_count": 59,
   "outputs": [],
   "source": [
    "job_info_path = \"/Users/yu/Desktop/JobProjects/ApplicationLetterGenerator_1/job_info.txt\"\n",
    "api_path = \"/Users/yu/Desktop/JobProjects/ApplicationLetterGenerator_1/api_keys.txt\"\n",
    "prompt_letter_path = \"/Users/yu/Desktop/JobProjects/ApplicationLetterGenerator_1/prompt_letter_template.txt\""
   ],
   "metadata": {
    "collapsed": false,
    "ExecuteTime": {
     "end_time": "2024-09-30T11:46:53.391248Z",
     "start_time": "2024-09-30T11:46:53.388873Z"
    }
   },
   "id": "f6ed13935f840d"
  },
  {
   "cell_type": "code",
   "execution_count": 60,
   "outputs": [],
   "source": [
    "def read(path):\n",
    "    with open(path, \"r\") as f:\n",
    "        content = f.read()\n",
    "    \n",
    "    return content"
   ],
   "metadata": {
    "collapsed": false,
    "ExecuteTime": {
     "end_time": "2024-09-30T11:46:53.649340Z",
     "start_time": "2024-09-30T11:46:53.643927Z"
    }
   },
   "id": "1d4ba288397ac784"
  },
  {
   "cell_type": "code",
   "execution_count": 123,
   "outputs": [],
   "source": [
    "job_content = read(job_info_path)\n",
    "api_keys = read(api_path)\n",
    "prompt_letter_content = read(prompt_letter_path)"
   ],
   "metadata": {
    "collapsed": false,
    "ExecuteTime": {
     "end_time": "2024-09-30T12:09:46.660931Z",
     "start_time": "2024-09-30T12:09:46.654404Z"
    }
   },
   "id": "46543c4bbfcd90b0"
  },
  {
   "cell_type": "code",
   "execution_count": 65,
   "outputs": [],
   "source": [
    "llm = ChatGroq(\n",
    "    model=\"llama-3.1-70b-versatile\",\n",
    "    groq_api_key=api_keys,\n",
    "    temperature=0.3\n",
    ")\n",
    "\n",
    "prompt_job = PromptTemplate(\n",
    "    input_variables=[\"job_info\"],\n",
    "    template=\"\"\"\n",
    "    extract detail information `role`, `experience`, `skills`, `description` from {job_info} and made into JSON format. Don't create more keys under these three keys\n",
    "    \"\"\"\n",
    ")\n",
    "\n",
    "chain_job = prompt_job | llm\n",
    "response = chain_job.invoke({\"job_info\": job_content}) "
   ],
   "metadata": {
    "collapsed": false,
    "ExecuteTime": {
     "end_time": "2024-09-30T11:47:23.940445Z",
     "start_time": "2024-09-30T11:47:22.490463Z"
    }
   },
   "id": "2e63c36560675dca"
  },
  {
   "cell_type": "code",
   "execution_count": 66,
   "outputs": [],
   "source": [
    "def parse_job_info(job_info):\n",
    "    parser = JsonOutputParser()\n",
    "    json_response = parser.parse(job_info)\n",
    "    \n",
    "    return json_response"
   ],
   "metadata": {
    "collapsed": false,
    "ExecuteTime": {
     "end_time": "2024-09-30T11:47:24.787678Z",
     "start_time": "2024-09-30T11:47:24.782148Z"
    }
   },
   "id": "57c911ee4e8c6a51"
  },
  {
   "cell_type": "code",
   "execution_count": 67,
   "outputs": [
    {
     "data": {
      "text/plain": "{'role': 'Intern / Working Student (NLP Engineer, LLM Agents)',\n 'experience': ['Currently pursuing Masters degree in Computer Science, Electrical Engineering or any other technical related field',\n  'Experience solving NLP problems',\n  'Experience with LLM technology'],\n 'skills': ['Python',\n  'REST APIs',\n  'Spacy',\n  'Gensim',\n  'Cohere/OpenAI/Gemini',\n  'English (fluent)'],\n 'description': 'As a NLP Engineer, you will work with the tech team to further develop our AI Agent and expand its capabilities. This is a very high impact role where you will shape the product and work at the very edge of whats possible with the state-of-the-art technologies.'}"
     },
     "execution_count": 67,
     "metadata": {},
     "output_type": "execute_result"
    }
   ],
   "source": [
    "job_info_json = parse_job_info(response.content)\n",
    "job_info_json"
   ],
   "metadata": {
    "collapsed": false,
    "ExecuteTime": {
     "end_time": "2024-09-30T11:47:25.302281Z",
     "start_time": "2024-09-30T11:47:25.298682Z"
    }
   },
   "id": "10dd085bd6677872"
  },
  {
   "cell_type": "code",
   "execution_count": 68,
   "outputs": [
    {
     "data": {
      "text/plain": "                                        Project Name  \\\n0  Zipf's Law, Text Generation Using A N-gram Mod...   \n1  Comparative Analysis of BERT Variants on Senti...   \n2  Comparative Analysis of Sentiment Analysis Tec...   \n3   IT Service Ticket Classification with DistilBERT   \n4  Job Application Generator Using LLM and LangChain   \n\n                                 Project Description  \\\n0                                                NaN   \n1  Evaluate BERT-base, RoBERTa, DistilBERT, and A...   \n2  Compare sentiment analysis results from NLTK/V...   \n3  text Classification: Classify IT service ticke...   \n4  Use the ChatGroq API to get access to LLM: Met...   \n\n                                       Project Links                    skills  \n0  https://github.com/yyuuccii/CoLi_1/blob/main/C...                  LLM, NLP  \n1  https://drive.google.com/file/d/13RJ4inZYD4eEd...                NLP, SpaCy  \n2  https://drive.google.com/file/d/1hioeSSo9hQ_g_...                  LLM, NLP  \n3  https://github.com/yyuuccii/TextClassification...                  LLM, NLP  \n4  https://github.com/yyuuccii/JobApplicationGene...  LLM, API, NLP, LangChain  ",
      "text/html": "<div>\n<style scoped>\n    .dataframe tbody tr th:only-of-type {\n        vertical-align: middle;\n    }\n\n    .dataframe tbody tr th {\n        vertical-align: top;\n    }\n\n    .dataframe thead th {\n        text-align: right;\n    }\n</style>\n<table border=\"1\" class=\"dataframe\">\n  <thead>\n    <tr style=\"text-align: right;\">\n      <th></th>\n      <th>Project Name</th>\n      <th>Project Description</th>\n      <th>Project Links</th>\n      <th>skills</th>\n    </tr>\n  </thead>\n  <tbody>\n    <tr>\n      <th>0</th>\n      <td>Zipf's Law, Text Generation Using A N-gram Mod...</td>\n      <td>NaN</td>\n      <td>https://github.com/yyuuccii/CoLi_1/blob/main/C...</td>\n      <td>LLM, NLP</td>\n    </tr>\n    <tr>\n      <th>1</th>\n      <td>Comparative Analysis of BERT Variants on Senti...</td>\n      <td>Evaluate BERT-base, RoBERTa, DistilBERT, and A...</td>\n      <td>https://drive.google.com/file/d/13RJ4inZYD4eEd...</td>\n      <td>NLP, SpaCy</td>\n    </tr>\n    <tr>\n      <th>2</th>\n      <td>Comparative Analysis of Sentiment Analysis Tec...</td>\n      <td>Compare sentiment analysis results from NLTK/V...</td>\n      <td>https://drive.google.com/file/d/1hioeSSo9hQ_g_...</td>\n      <td>LLM, NLP</td>\n    </tr>\n    <tr>\n      <th>3</th>\n      <td>IT Service Ticket Classification with DistilBERT</td>\n      <td>text Classification: Classify IT service ticke...</td>\n      <td>https://github.com/yyuuccii/TextClassification...</td>\n      <td>LLM, NLP</td>\n    </tr>\n    <tr>\n      <th>4</th>\n      <td>Job Application Generator Using LLM and LangChain</td>\n      <td>Use the ChatGroq API to get access to LLM: Met...</td>\n      <td>https://github.com/yyuuccii/JobApplicationGene...</td>\n      <td>LLM, API, NLP, LangChain</td>\n    </tr>\n  </tbody>\n</table>\n</div>"
     },
     "execution_count": 68,
     "metadata": {},
     "output_type": "execute_result"
    }
   ],
   "source": [
    "data_dir = \"my_portfolio.csv\"\n",
    "df = pd.read_csv(data_dir, delimiter=\";\")\n",
    "df"
   ],
   "metadata": {
    "collapsed": false,
    "ExecuteTime": {
     "end_time": "2024-09-30T11:47:26.674083Z",
     "start_time": "2024-09-30T11:47:26.660886Z"
    }
   },
   "id": "64e5d403b234cc88"
  },
  {
   "cell_type": "code",
   "execution_count": 69,
   "outputs": [],
   "source": [
    "client = chromadb.PersistentClient(\"vectorstore\")\n",
    "collection = client.get_or_create_collection(name=\"portfolio\")\n",
    "\n",
    "if not collection.count():\n",
    "    for _, row in df.iterrows():\n",
    "        document = f\"{row['Project Name']} - {row['Project Description']}\"\n",
    "        collection.add(documents=[document],\n",
    "                       metadatas={\"links\": row[\"Project Links\"]},\n",
    "                       ids=[str(uuid.uuid4())]\n",
    "                       )"
   ],
   "metadata": {
    "collapsed": false,
    "ExecuteTime": {
     "end_time": "2024-09-30T11:47:27.649065Z",
     "start_time": "2024-09-30T11:47:27.622806Z"
    }
   },
   "id": "d58cf8f62b8a63c1"
  },
  {
   "cell_type": "code",
   "execution_count": 70,
   "outputs": [
    {
     "data": {
      "text/plain": "dict_keys(['role', 'experience', 'skills', 'description'])"
     },
     "execution_count": 70,
     "metadata": {},
     "output_type": "execute_result"
    }
   ],
   "source": [
    "job_info_json.keys()"
   ],
   "metadata": {
    "collapsed": false,
    "ExecuteTime": {
     "end_time": "2024-09-30T11:47:28.977262Z",
     "start_time": "2024-09-30T11:47:28.968737Z"
    }
   },
   "id": "e323b4697ee52785"
  },
  {
   "cell_type": "code",
   "execution_count": 71,
   "outputs": [
    {
     "data": {
      "text/plain": "\"As a NLP Engineer, you will work with the tech team to further develop our AI Agent and expand its capabilities. This is a very high impact role where you will shape the product and work at the very edge of whats possible with the state-of-the-art technologies.['Currently pursuing Masters degree in Computer Science, Electrical Engineering or any other technical related field', 'Experience solving NLP problems', 'Experience with LLM technology']['Python', 'REST APIs', 'Spacy', 'Gensim', 'Cohere/OpenAI/Gemini', 'English (fluent)']\""
     },
     "execution_count": 71,
     "metadata": {},
     "output_type": "execute_result"
    }
   ],
   "source": [
    "query = job_info_json[\"description\"] + str(job_info_json[\"experience\"]) + str(job_info_json[\"skills\"])\n",
    "query"
   ],
   "metadata": {
    "collapsed": false,
    "ExecuteTime": {
     "end_time": "2024-09-30T11:47:29.347122Z",
     "start_time": "2024-09-30T11:47:29.342111Z"
    }
   },
   "id": "f901322f2c7a434f"
  },
  {
   "cell_type": "code",
   "execution_count": 72,
   "outputs": [],
   "source": [
    "links = collection.query(query_texts=query,\n",
    "                         n_results=3)"
   ],
   "metadata": {
    "collapsed": false,
    "ExecuteTime": {
     "end_time": "2024-09-30T11:47:32.650428Z",
     "start_time": "2024-09-30T11:47:30.965329Z"
    }
   },
   "id": "9b3d1dec4c117e86"
  },
  {
   "cell_type": "code",
   "execution_count": 124,
   "outputs": [],
   "source": [
    "def write_letter(links, job_info_json):\n",
    "    \n",
    "    llm = ChatGroq(\n",
    "        model=\"llama-3.1-70b-versatile\",\n",
    "        groq_api_key=api_keys,\n",
    "        temperature=0.6\n",
    "    )\n",
    "    \n",
    "    prompt_letter = PromptTemplate(\n",
    "        input_variables=[\"links\", \"job_description\"],\n",
    "        template=prompt_letter_content\n",
    "    )\n",
    "    \n",
    "    chain_letter = prompt_letter | llm\n",
    "    letter = chain_letter.invoke({\"links\": links, \"job_description\": job_info_json})\n",
    "    \n",
    "    return letter"
   ],
   "metadata": {
    "collapsed": false,
    "ExecuteTime": {
     "end_time": "2024-09-30T12:09:49.430203Z",
     "start_time": "2024-09-30T12:09:49.423082Z"
    }
   },
   "id": "8f9905a853175a4f"
  },
  {
   "cell_type": "code",
   "execution_count": 127,
   "outputs": [],
   "source": [
    "letter = write_letter(links=links, job_info_json=job_info_json[\"skills\"])"
   ],
   "metadata": {
    "collapsed": false,
    "ExecuteTime": {
     "end_time": "2024-09-30T12:10:23.032408Z",
     "start_time": "2024-09-30T12:10:21.454532Z"
    }
   },
   "id": "6f7896d4c81258e2"
  },
  {
   "cell_type": "code",
   "execution_count": 128,
   "outputs": [
    {
     "name": "stdout",
     "output_type": "stream",
     "text": [
      "Dear Knowron Team,\n",
      "\n",
      "I'm Yuci Chen, a master's student in Computational Linguistics at Saarland University. I'm excited to apply for the NLP internship/workstudent position at Knowron.\n",
      "\n",
      "With a strong foundation in Python programming and experience in NLP tools such as REST APIs, Spacy, Gensim, and Cohere/OpenAI/Gemini, I'm confident in my ability to contribute to your team. I'm fluent in English and have a passion for NLP applications.\n",
      "\n",
      "Some relevant projects I've worked on include:\n",
      "• Job Application Generator Using LLM and LangChain (https://github.com/yyuuccii/JobApplicationGenerator/blob/main/JobApplicationGenerator.ipynb)\n",
      "• Comparative Analysis of Sentiment Analysis Techniques and Preprocessing Impact (https://drive.google.com/file/d/1hioeSSo9hQ_g_aQTISfR2UZtYFH4GR57/view?usp=sharing)\n",
      "• IT Service Ticket Classification with DistilBERT (https://github.com/yyuuccii/TextClassification_ITService/tree/main)\n",
      "\n",
      "I'm looking forward to discussing my qualifications further.\n",
      "\n",
      "Best regards,\n",
      "Yuci Chen\n",
      "\n",
      "P.S. this letter is generated by a Llama model, using the LangChain framework with RAG technique.\n"
     ]
    }
   ],
   "source": [
    "print(letter.content)"
   ],
   "metadata": {
    "collapsed": false,
    "ExecuteTime": {
     "end_time": "2024-09-30T12:10:23.038866Z",
     "start_time": "2024-09-30T12:10:23.007940Z"
    }
   },
   "id": "2754d53d027357d1"
  }
 ],
 "metadata": {
  "kernelspec": {
   "display_name": "Python 3",
   "language": "python",
   "name": "python3"
  },
  "language_info": {
   "codemirror_mode": {
    "name": "ipython",
    "version": 2
   },
   "file_extension": ".py",
   "mimetype": "text/x-python",
   "name": "python",
   "nbconvert_exporter": "python",
   "pygments_lexer": "ipython2",
   "version": "2.7.6"
  }
 },
 "nbformat": 4,
 "nbformat_minor": 5
}
